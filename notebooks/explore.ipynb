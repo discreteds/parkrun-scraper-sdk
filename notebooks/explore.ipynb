{
 "cells": [
  {
   "cell_type": "code",
   "execution_count": 1,
   "metadata": {},
   "outputs": [],
   "source": [
    "from parkrun_api.parkrun_api import Country\n",
    "import requests\n",
    "\n",
    "session = requests.Session()\n",
    "session.headers = {\n",
    "    \"User-Agent\": \"Mozilla/5.0 (Windows NT 10.0; Win64; x64; rv:93.0) Gecko/20100101 Firefox/93.0\",\n",
    "    \"Accept\": \"text/html,application/xhtml+xml,application/xml;q=0.9,image/avif,image/webp,*/*;q=0.8\",\n",
    "    \"Accept-Language\": \"en-US,en;q=0.5\",\n",
    "    \"Accept-Encoding\": \"gzip, deflate, br\",\n",
    "    \"DNT\": \"1\",\n",
    "    \"Connection\": \"keep-alive\",\n",
    "    \"Upgrade-Insecure-Requests\": \"1\",\n",
    "    \"Sec-Fetch-Dest\": \"document\",\n",
    "    \"Sec-Fetch-Mode\": \"navigate\",\n",
    "    \"Sec-Fetch-Site\": \"none\",\n",
    "    \"Sec-Fetch-User\": \"?1\"\n",
    "}\n",
    "\n"
   ]
  },
  {
   "cell_type": "code",
   "execution_count": 3,
   "metadata": {},
   "outputs": [
    {
     "data": {
      "text/plain": [
       "[<parkrun_api.parkrun_api.Country at 0x7da83523c170>,\n",
       " <parkrun_api.parkrun_api.Country at 0x7da83523c0b0>,\n",
       " <parkrun_api.parkrun_api.Country at 0x7da83523c2f0>,\n",
       " <parkrun_api.parkrun_api.Country at 0x7da83523c110>,\n",
       " <parkrun_api.parkrun_api.Country at 0x7da83523c0e0>,\n",
       " <parkrun_api.parkrun_api.Country at 0x7da83523c050>,\n",
       " <parkrun_api.parkrun_api.Country at 0x7da83523c290>,\n",
       " <parkrun_api.parkrun_api.Country at 0x7da83523c260>,\n",
       " <parkrun_api.parkrun_api.Country at 0x7da83523c230>,\n",
       " <parkrun_api.parkrun_api.Country at 0x7da83523c080>,\n",
       " <parkrun_api.parkrun_api.Country at 0x7da83523c200>,\n",
       " <parkrun_api.parkrun_api.Country at 0x7da83523c3e0>,\n",
       " <parkrun_api.parkrun_api.Country at 0x7da83523c860>,\n",
       " <parkrun_api.parkrun_api.Country at 0x7da83523c380>,\n",
       " <parkrun_api.parkrun_api.Country at 0x7da83523c350>,\n",
       " <parkrun_api.parkrun_api.Country at 0x7da83523c1d0>,\n",
       " <parkrun_api.parkrun_api.Country at 0x7da83523c4a0>,\n",
       " <parkrun_api.parkrun_api.Country at 0x7da83523c8c0>,\n",
       " <parkrun_api.parkrun_api.Country at 0x7da83523c800>,\n",
       " <parkrun_api.parkrun_api.Country at 0x7da83523c980>,\n",
       " <parkrun_api.parkrun_api.Country at 0x7da83523c890>,\n",
       " <parkrun_api.parkrun_api.Country at 0x7da83523c140>]"
      ]
     },
     "execution_count": 3,
     "metadata": {},
     "output_type": "execute_result"
    }
   ],
   "source": [
    "c = Country(session=session)\n",
    "Country().GetAllCountries()\n",
    "\n"
   ]
  },
  {
   "cell_type": "code",
   "execution_count": 9,
   "metadata": {},
   "outputs": [],
   "source": [
    "countriesJson = session.get(\"https://images.parkrun.com/events.json\").json()[\"countries\"]"
   ]
  },
  {
   "cell_type": "code",
   "execution_count": null,
   "metadata": {},
   "outputs": [],
   "source": [
    "countriesJson"
   ]
  },
  {
   "cell_type": "code",
   "execution_count": null,
   "metadata": {},
   "outputs": [],
   "source": []
  }
 ],
 "metadata": {
  "kernelspec": {
   "display_name": "parkrun-api",
   "language": "python",
   "name": "python3"
  },
  "language_info": {
   "codemirror_mode": {
    "name": "ipython",
    "version": 3
   },
   "file_extension": ".py",
   "mimetype": "text/x-python",
   "name": "python",
   "nbconvert_exporter": "python",
   "pygments_lexer": "ipython3",
   "version": "3.12.1"
  }
 },
 "nbformat": 4,
 "nbformat_minor": 2
}
