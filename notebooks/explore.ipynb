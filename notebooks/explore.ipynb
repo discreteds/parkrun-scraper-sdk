{
 "cells": [
  {
   "cell_type": "code",
   "execution_count": 1,
   "metadata": {},
   "outputs": [],
   "source": [
    "from parkrun_scraper_sdk import Country, Course, Result, Event\n",
    "\n"
   ]
  },
  {
   "cell_type": "code",
   "execution_count": null,
   "metadata": {},
   "outputs": [],
   "source": [
    "countries = Country.get_all_countries()\n",
    "courses = Course.get_all_courses()\n",
    "\n",
    "print(countries)"
   ]
  },
  {
   "cell_type": "code",
   "execution_count": null,
   "metadata": {},
   "outputs": [],
   "source": [
    "courses"
   ]
  },
  {
   "cell_type": "code",
   "execution_count": 23,
   "metadata": {},
   "outputs": [],
   "source": [
    "\n",
    "country_lookup  = {country.id: country  for country in countries}\n",
    "country_url_lookup  = {country.id: country.url  for country in countries}\n",
    "\n",
    "course_lookup = {course.id: course for course in courses}"
   ]
  },
  {
   "cell_type": "code",
   "execution_count": null,
   "metadata": {},
   "outputs": [],
   "source": [
    "course_lookup\n"
   ]
  },
  {
   "cell_type": "code",
   "execution_count": null,
   "metadata": {},
   "outputs": [],
   "source": [
    "#course_ids by country\n",
    "country_course_ids = {str(country.id): []  for country in countries}\n",
    "[country_course_ids[str(course.country_code)].append(course.id)  for course in courses]\n",
    "country_course_ids\n",
    "\n",
    "#Number of courses by country\n",
    "country_num_courses = {country_id: len(country_course_ids[country_id])  for country_id in country_course_ids}\n",
    "country_num_courses\n",
    "\n",
    "\n",
    "# course = courses[0]\n",
    "# course"
   ]
  },
  {
   "cell_type": "code",
   "execution_count": null,
   "metadata": {},
   "outputs": [],
   "source": [
    "country_to_process = \"4\"\n",
    "courses_to_process = country_course_ids[country_to_process]\n",
    "courses_to_process"
   ]
  },
  {
   "cell_type": "code",
   "execution_count": null,
   "metadata": {},
   "outputs": [],
   "source": [
    "\n",
    "course = course_lookup[courses_to_process[0]]\n",
    "Result.get_latest_results(course)"
   ]
  },
  {
   "cell_type": "code",
   "execution_count": null,
   "metadata": {},
   "outputs": [],
   "source": [
    "\n",
    "events = Event.get_event_history(course)\n",
    "\n",
    "event_id_lookup = {event.event_number: event for event in events}\n",
    "event_date_lookup = {event.date: event for event in events}\n"
   ]
  },
  {
   "cell_type": "code",
   "execution_count": null,
   "metadata": {},
   "outputs": [],
   "source": [
    "events"
   ]
  },
  {
   "cell_type": "code",
   "execution_count": null,
   "metadata": {},
   "outputs": [],
   "source": [
    "Result.get_results(course, 156)"
   ]
  },
  {
   "cell_type": "code",
   "execution_count": 73,
   "metadata": {},
   "outputs": [],
   "source": [
    "from json import load\n",
    "from typing import Optional, Dict, Any, List\n",
    "from unittest import result\n",
    "from datetime import datetime\n",
    "\n",
    "\n",
    "from parkrun_scraper_sdk import event\n",
    "# from mountainash_utils_hamilton import BaseHamiltonOrchestratorMixin\n",
    "\n",
    "class ParkrunDataExtractionOrchestrator: #(BaseHamiltonOrchestratorMixin):\n",
    "\n",
    "\n",
    "\n",
    "    def __init__(self, processing_date: str): #, settings_parameters: SettingsParameters):\n",
    "        # self.settings_parameters = settings_parameters\n",
    "        # Initialize other necessary components (API client, data storage, etc.)\n",
    "\n",
    "        self.processing_date = processing_date\n",
    "\n",
    "        self.live_courses_lookup: Dict[str, Course] = None\n",
    "        self.live_countries_lookup: Dict[str, Country] = None\n",
    "        self.country_course_ids: Dict[str, List[str]] = None\n",
    "        self.country_num_courses: Dict[str, int] = None\n",
    "\n",
    "\n",
    "\n",
    "        self.load_live_countries_lookup()\n",
    "        self.load_live_courses_lookup()\n",
    "        self.load_country_course_ids()\n",
    "        self.load_country_num_courses()\n",
    "\n",
    "\n",
    "    # def init_base_hamilton_inputs(self) -> Dict[str, Any]:\n",
    "    #     return dict(obj_orchestrator=self)\n",
    "\n",
    "    # def init_base_hamilton_module_names(self) -> str|List[str]:\n",
    "    #     return 'parkrun_data_extraction.pipeline_parkrun_extraction'\n",
    "\n",
    "    def extract_raw_countries(self) -> List[Country]:\n",
    "        # Implementation for extracting countries\n",
    "        return Country.get_all_countries()\n",
    "    \n",
    "    def extract_raw_courses(self) -> List[Course]:\n",
    "        # Implementation for extracting courses\n",
    "        return Course.get_all_courses()\n",
    "\n",
    "    # Methods for each extraction step\n",
    "    def load_live_countries_lookup(self) -> List[Country]:\n",
    "        # Implementation for extracting countries\n",
    "        if self.live_countries_lookup is None:\n",
    "            self.live_countries_lookup = {country.id: country for country in Country.get_all_countries()}\n",
    "        \n",
    "    def load_live_courses_lookup(self) -> List[Course]:\n",
    "        # Implementation for extracting courses\n",
    "        if self.live_courses_lookup is None:\n",
    "            self.live_courses_lookup = {course.id: course for course in Course.get_all_courses()}\n",
    "\n",
    "\n",
    "    def load_country_course_ids(self) -> None:\n",
    "        #course_ids by country\n",
    "\n",
    "        countries = list(self.live_countries_lookup.values())\n",
    "        courses =   list(self.live_courses_lookup.values())\n",
    "\n",
    "        if self.country_course_ids is None:\n",
    "\n",
    "            self.country_course_ids = {str(country.id): []  for country in countries}\n",
    "            [self.country_course_ids[str(course.country_code)].append(course.id)  for course in courses]\n",
    "\n",
    "\n",
    "    def load_country_num_courses(self) -> None:\n",
    "        #Number of courses by country\n",
    "\n",
    "        if self.country_num_courses is None:\n",
    "\n",
    "            if self.country_course_ids is None:\n",
    "                self.load_country_course_ids()\n",
    "\n",
    "            self.country_num_courses = {country_id: len(self.country_course_ids[country_id])  for country_id in self.country_course_ids}\n",
    "\n",
    "\n",
    "\n",
    "    #Events\n",
    "    def extract_raw_course_events(self, course_id: str) -> List[Event]:\n",
    "        # Implementation for extracting events for a specific course\n",
    "        course = self.live_courses_lookup[course_id]\n",
    "        return Event.get_event_history(course)\n",
    "\n",
    "\n",
    "    def get_course_event_date_lookup(self, events: Dict[str, Event]) -> Dict[str, Event]:\n",
    "        return {event.date: event for event in events}\n",
    "\n",
    "\n",
    "    def get_course_event_id_lookup(self, events: Dict[str, Event]) -> Dict[str, Event]:\n",
    "        return {event.event_number: event for event in events}\n",
    "\n",
    "\n",
    "\n",
    "    def get_course_first_event_date(self, course_id) -> Event:\n",
    "        events = self.extract_raw_course_events(course_id)\n",
    "        event_dates = self.get_course_event_date_lookup(events)\n",
    "        return min(event_dates.keys())\n",
    "\n",
    "\n",
    "\n",
    "    #Results\n",
    "    def extract_raw_event_results(self, course_id: str, event_id: str) -> Dict[str, Result]:\n",
    "        # Implementation for extracting results for a specific event\n",
    "\n",
    "        course = self.live_courses_lookup[course_id]\n",
    "        results = Result.get_results(course, event_id)\n",
    "        return results\n",
    "\n",
    "\n",
    "    # Incremental extraction\n",
    "    def extract_course_new_event_history(self, course_id, processed_event_numbers: List[str] = None) -> List[Dict[str, Event]]:\n",
    "\n",
    "        if processed_event_numbers is None:\n",
    "            processed_event_numbers = []\n",
    "\n",
    "        events = self.extract_raw_course_events(course_id)\n",
    "        event_id_lookup = self.get_course_event_id_lookup(events)\n",
    "        processing_date = datetime.strptime(self.processing_date, \"%Y-%m-%d\")\n",
    "\n",
    "        unprocessed_events = {}\n",
    "\n",
    "        for event_id in event_id_lookup:\n",
    "            event = event_id_lookup[event_id]\n",
    "            if event_id in processed_event_numbers:\n",
    "                continue\n",
    "            if event.date > processing_date:\n",
    "                continue\n",
    "\n",
    "            unprocessed_events[event_id] = event_id_lookup[event_id]\n",
    "\n",
    "        return unprocessed_events\n",
    "\n",
    "    def extract_course_new_result_history(self, course_id, processed_event_numbers: List[str] = None) -> List[Dict[str, Result]]:\n",
    "\n",
    "        if processed_event_numbers is None:\n",
    "            processed_event_numbers = []\n",
    "\n",
    "        events = self.extract_raw_course_events(course_id)\n",
    "        event_id_lookup = self.get_course_event_id_lookup(events)\n",
    "\n",
    "        processing_date = datetime.strptime(self.processing_date, \"%Y-%m-%d\")\n",
    "\n",
    "        unprocessed_results = {}\n",
    "\n",
    "        for event_id in event_id_lookup:\n",
    "            event = event_id_lookup[event_id]\n",
    "\n",
    "            if event_id in processed_event_numbers:\n",
    "                continue\n",
    "\n",
    "            if event.date > processing_date:\n",
    "                continue\n",
    "\n",
    "            unprocessed_results[event_id] = self.extract_raw_event_results(course_id, event_id)\n",
    "\n",
    "        return unprocessed_results\n",
    "\n",
    "\n",
    "\n",
    "    # # Method to run the entire extraction process\n",
    "    # def run_extraction(self):\n",
    "    #     hamilton_nodes = [\"extract_countries\", \"extract_courses\", \"extract_events\", \"extract_results\"]\n",
    "    #     return self.run_hamilton_pipeline(output_nodes=hamilton_nodes)"
   ]
  },
  {
   "cell_type": "code",
   "execution_count": 81,
   "metadata": {},
   "outputs": [],
   "source": [
    "obj = ParkrunDataExtractionOrchestrator(\"2024-10-22\")"
   ]
  },
  {
   "cell_type": "code",
   "execution_count": null,
   "metadata": {},
   "outputs": [],
   "source": [
    "processing_country = \"54\"\n",
    "\n",
    "courses_to_process = obj.country_course_ids[processing_country]\n",
    "courses_to_process\n",
    "\n",
    "\n"
   ]
  },
  {
   "cell_type": "code",
   "execution_count": null,
   "metadata": {},
   "outputs": [],
   "source": [
    "\n",
    "obj.get_course_first_event_date(courses_to_process[0])"
   ]
  },
  {
   "cell_type": "code",
   "execution_count": null,
   "metadata": {},
   "outputs": [],
   "source": [
    "obj.extract_course_new_result_history(courses_to_process[0], [1,2] )"
   ]
  },
  {
   "cell_type": "code",
   "execution_count": null,
   "metadata": {},
   "outputs": [],
   "source": []
  }
 ],
 "metadata": {
  "kernelspec": {
   "display_name": "parkrun-api",
   "language": "python",
   "name": "python3"
  },
  "language_info": {
   "codemirror_mode": {
    "name": "ipython",
    "version": 3
   },
   "file_extension": ".py",
   "mimetype": "text/x-python",
   "name": "python",
   "nbconvert_exporter": "python",
   "pygments_lexer": "ipython3",
   "version": "3.10.15"
  }
 },
 "nbformat": 4,
 "nbformat_minor": 2
}
